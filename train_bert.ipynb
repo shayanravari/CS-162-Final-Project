{
 "cells": [
  {
   "cell_type": "code",
   "execution_count": null,
   "id": "c6b1591f",
   "metadata": {},
   "outputs": [
    {
     "name": "stderr",
     "output_type": "stream",
     "text": [
      "c:\\Users\\shaya\\Desktop\\CS 162 Final Project\\.env\\Lib\\site-packages\\tqdm\\auto.py:21: TqdmWarning: IProgress not found. Please update jupyter and ipywidgets. See https://ipywidgets.readthedocs.io/en/stable/user_install.html\n",
      "  from .autonotebook import tqdm as notebook_tqdm\n"
     ]
    }
   ],
   "source": [
    "import torch\n",
    "from datasets import load_dataset, Dataset, DatasetDict\n",
    "from transformers import AutoTokenizer, AutoModelForSequenceClassification, TrainingArguments, Trainer\n",
    "from sklearn.model_selection import train_test_split as sk_train_test_split\n",
    "from sklearn.metrics import accuracy_score, precision_recall_fscore_support\n",
    "import re\n",
    "import random\n",
    "import numpy as np"
   ]
  },
  {
   "cell_type": "code",
   "execution_count": null,
   "id": "7b2ac5ee",
   "metadata": {},
   "outputs": [
    {
     "name": "stderr",
     "output_type": "stream",
     "text": [
      "Map: 100%|██████████| 1600/1600 [00:00<00:00, 7830.80 examples/s]\n",
      "Map: 100%|██████████| 400/400 [00:00<00:00, 7855.68 examples/s]\n",
      "Some weights of BertForSequenceClassification were not initialized from the model checkpoint at bert-base-uncased and are newly initialized: ['classifier.bias', 'classifier.weight']\n",
      "You should probably TRAIN this model on a down-stream task to be able to use it for predictions and inference.\n"
     ]
    },
    {
     "name": "stdout",
     "output_type": "stream",
     "text": [
      "Starting BERT model training...\n"
     ]
    },
    {
     "data": {
      "text/html": [
       "\n",
       "    <div>\n",
       "      \n",
       "      <progress value='300' max='300' style='width:300px; height:20px; vertical-align: middle;'></progress>\n",
       "      [300/300 01:23, Epoch 3/3]\n",
       "    </div>\n",
       "    <table border=\"1\" class=\"dataframe\">\n",
       "  <thead>\n",
       " <tr style=\"text-align: left;\">\n",
       "      <th>Epoch</th>\n",
       "      <th>Training Loss</th>\n",
       "      <th>Validation Loss</th>\n",
       "      <th>Accuracy</th>\n",
       "      <th>F1</th>\n",
       "      <th>Precision</th>\n",
       "      <th>Recall</th>\n",
       "    </tr>\n",
       "  </thead>\n",
       "  <tbody>\n",
       "    <tr>\n",
       "      <td>1</td>\n",
       "      <td>0.689100</td>\n",
       "      <td>0.658841</td>\n",
       "      <td>0.657500</td>\n",
       "      <td>0.632708</td>\n",
       "      <td>0.682081</td>\n",
       "      <td>0.590000</td>\n",
       "    </tr>\n",
       "    <tr>\n",
       "      <td>2</td>\n",
       "      <td>0.597000</td>\n",
       "      <td>0.623373</td>\n",
       "      <td>0.640000</td>\n",
       "      <td>0.727273</td>\n",
       "      <td>0.585366</td>\n",
       "      <td>0.960000</td>\n",
       "    </tr>\n",
       "    <tr>\n",
       "      <td>3</td>\n",
       "      <td>0.426300</td>\n",
       "      <td>0.552195</td>\n",
       "      <td>0.732500</td>\n",
       "      <td>0.689855</td>\n",
       "      <td>0.820690</td>\n",
       "      <td>0.595000</td>\n",
       "    </tr>\n",
       "  </tbody>\n",
       "</table><p>"
      ],
      "text/plain": [
       "<IPython.core.display.HTML object>"
      ]
     },
     "metadata": {},
     "output_type": "display_data"
    },
    {
     "name": "stdout",
     "output_type": "stream",
     "text": [
      "\n",
      "Evaluating on the development set:\n"
     ]
    },
    {
     "data": {
      "text/html": [
       "\n",
       "    <div>\n",
       "      \n",
       "      <progress value='13' max='13' style='width:300px; height:20px; vertical-align: middle;'></progress>\n",
       "      [13/13 00:01]\n",
       "    </div>\n",
       "    "
      ],
      "text/plain": [
       "<IPython.core.display.HTML object>"
      ]
     },
     "metadata": {},
     "output_type": "display_data"
    },
    {
     "name": "stdout",
     "output_type": "stream",
     "text": [
      "BERT Dev Set → Acc: 0.6400, Prec: 0.5854, Rec: 0.9600, F1: 0.7273\n",
      "\n",
      "Saving the fine-tuned model...\n",
      "Model and tokenizer saved to ./bert_ai_detector_final\n"
     ]
    }
   ],
   "source": [
    "def preprocess_text_for_bert(text):\n",
    "    text = text.lower()\n",
    "    text = re.sub(r\"<[^>]+>\", \" \", text)\n",
    "    text = re.sub(r\"\\s+\", \" \", text).strip()\n",
    "    return text\n",
    "\n",
    "def get_data_from_jsonl_for_bert(path, n_per_split=10000):\n",
    "    raw_ds = load_dataset(\"json\", data_files=path, split=f\"train[:{n_per_split*2}]\")\n",
    "\n",
    "    texts = []\n",
    "    labels = []\n",
    "\n",
    "    count_human = 0\n",
    "    count_ai = 0\n",
    "\n",
    "    for item in raw_ds:\n",
    "        if item.get(\"real\") and count_human < n_per_split:\n",
    "            processed_text = preprocess_text_for_bert(item[\"real\"])\n",
    "            if len(processed_text.split()) >= 5:\n",
    "                texts.append(processed_text)\n",
    "                labels.append(0) # 0 for human\n",
    "                count_human += 1\n",
    "        if item.get(\"gpt2\") and count_ai < n_per_split:\n",
    "            processed_text = preprocess_text_for_bert(item[\"gpt2\"])\n",
    "            if len(processed_text.split()) >= 5:\n",
    "                texts.append(processed_text)\n",
    "                labels.append(1) # 1 for AI\n",
    "                count_ai += 1\n",
    "        if count_human >= n_per_split and count_ai >= n_per_split:\n",
    "            break\n",
    "            \n",
    "    # Combine and shuffle\n",
    "    combined = list(zip(texts, labels))\n",
    "    random.shuffle(combined)\n",
    "    texts, labels = zip(*combined)\n",
    "    \n",
    "    return list(texts), list(labels)\n",
    "\n",
    "MODEL_NAME = \"bert-base-uncased\"\n",
    "tokenizer = AutoTokenizer.from_pretrained(MODEL_NAME)\n",
    "\n",
    "def tokenize_function(examples):\n",
    "    return tokenizer(examples[\"text\"], padding=\"max_length\", truncation=True, max_length=256) # Adjust max_length\n",
    "\n",
    "def compute_metrics(pred):\n",
    "    labels = pred.label_ids\n",
    "    preds = pred.predictions.argmax(-1)\n",
    "    precision, recall, f1, _ = precision_recall_fscore_support(labels, preds, average=\"binary\")\n",
    "    acc = accuracy_score(labels, preds)\n",
    "    return {\n",
    "        'accuracy': acc,\n",
    "        'f1': f1,\n",
    "        'precision': precision,\n",
    "        'recall': recall\n",
    "    }\n",
    "\n",
    "if __name__ == \"__main__\":\n",
    "    # Load and prepare data\n",
    "    texts, labels = get_data_from_jsonl_for_bert(\"data/train.jsonl\", n_per_split=1000)\n",
    "    \n",
    "    train_texts, test_texts, train_labels, test_labels = sk_train_test_split(\n",
    "        texts, labels, test_size=0.2, random_state=42, stratify=labels\n",
    "    )\n",
    "\n",
    "    # Create Hugging Face Dataset objects\n",
    "    train_dataset_dict = {\"text\": train_texts, \"label\": train_labels}\n",
    "    test_dataset_dict = {\"text\": test_texts, \"label\": test_labels}\n",
    "\n",
    "    train_dataset = Dataset.from_dict(train_dataset_dict)\n",
    "    test_dataset = Dataset.from_dict(test_dataset_dict)\n",
    "\n",
    "    # Tokenize\n",
    "    tokenized_train_dataset = train_dataset.map(tokenize_function, batched=True)\n",
    "    tokenized_test_dataset = test_dataset.map(tokenize_function, batched=True)\n",
    "\n",
    "    # Remove text column\n",
    "    tokenized_train_dataset = tokenized_train_dataset.remove_columns([\"text\"]).with_format(\"torch\")\n",
    "    tokenized_test_dataset = tokenized_test_dataset.remove_columns([\"text\"]).with_format(\"torch\")\n",
    "\n",
    "    # Load Model\n",
    "    model = AutoModelForSequenceClassification.from_pretrained(MODEL_NAME, num_labels=2)\n",
    "\n",
    "    # Training Arguments\n",
    "    training_args = TrainingArguments(\n",
    "        output_dir=\"./bert_ai_detector_checkpoints\",\n",
    "        num_train_epochs=3,\n",
    "        per_device_train_batch_size=16, # Adjust based on GPU memory\n",
    "        per_device_eval_batch_size=32,\n",
    "        warmup_steps=500,\n",
    "        weight_decay=0.01,\n",
    "        logging_dir='./logs',\n",
    "        logging_steps=100,\n",
    "        eval_strategy=\"epoch\",\n",
    "        save_strategy=\"epoch\",\n",
    "        load_best_model_at_end=True,\n",
    "        metric_for_best_model=\"f1\",\n",
    "        report_to=\"tensorboard\",\n",
    "        fp16=torch.cuda.is_available(),\n",
    "    )\n",
    "\n",
    "    # Trainer\n",
    "    trainer = Trainer(\n",
    "        model=model,\n",
    "        args=training_args,\n",
    "        train_dataset=tokenized_train_dataset,\n",
    "        eval_dataset=tokenized_test_dataset,\n",
    "        compute_metrics=compute_metrics,\n",
    "    )\n",
    "\n",
    "    # Train\n",
    "    print(\"Starting BERT model training...\")\n",
    "    trainer.train()\n",
    "\n",
    "    # Evaluate on dev set\n",
    "    print(\"\\nEvaluating on the development set:\")\n",
    "    eval_results = trainer.evaluate()\n",
    "    print(f\"BERT Dev Set → Acc: {eval_results['eval_accuracy']:.4f}, Prec: {eval_results['eval_precision']:.4f}, Rec: {eval_results['eval_recall']:.4f}, F1: {eval_results['eval_f1']:.4f}\")\n",
    "\n",
    "    # Save the model and tokenizer\n",
    "    print(\"\\nSaving the fine-tuned model...\")\n",
    "    trainer.save_model(\"./bert_ai_detector_final\")\n",
    "    tokenizer.save_pretrained(\"./bert_ai_detector_final\")\n",
    "    print(\"Model and tokenizer saved to ./bert_ai_detector_final\")"
   ]
  }
 ],
 "metadata": {
  "kernelspec": {
   "display_name": ".env",
   "language": "python",
   "name": "python3"
  },
  "language_info": {
   "codemirror_mode": {
    "name": "ipython",
    "version": 3
   },
   "file_extension": ".py",
   "mimetype": "text/x-python",
   "name": "python",
   "nbconvert_exporter": "python",
   "pygments_lexer": "ipython3",
   "version": "3.11.9"
  }
 },
 "nbformat": 4,
 "nbformat_minor": 5
}
