{
 "cells": [
  {
   "cell_type": "code",
   "execution_count": 1,
   "id": "dfdef7bc",
   "metadata": {},
   "outputs": [
    {
     "name": "stderr",
     "output_type": "stream",
     "text": [
      "c:\\Users\\shaya\\Desktop\\CS 162 Final Project\\.env\\Lib\\site-packages\\tqdm\\auto.py:21: TqdmWarning: IProgress not found. Please update jupyter and ipywidgets. See https://ipywidgets.readthedocs.io/en/stable/user_install.html\n",
      "  from .autonotebook import tqdm as notebook_tqdm\n"
     ]
    }
   ],
   "source": [
    "import torch\n",
    "from datasets import load_dataset\n",
    "from transformers import AutoModelForCausalLM, AutoTokenizer\n",
    "\n",
    "import re, random\n",
    "from sklearn.model_selection import train_test_split\n",
    "from sklearn.feature_extraction.text import TfidfVectorizer\n",
    "from sklearn.naive_bayes import MultinomialNB\n",
    "from sklearn.metrics import accuracy_score, precision_recall_fscore_support"
   ]
  },
  {
   "cell_type": "markdown",
   "id": "80c20461",
   "metadata": {},
   "source": [
    "**Baseline Test:** Usng Naive Bayes + TF-IDF, we can establish a quick baseline that tells us if simple lexical cues already seperate the human text and AI-generated text."
   ]
  },
  {
   "cell_type": "code",
   "execution_count": null,
   "id": "dabb8a3c",
   "metadata": {},
   "outputs": [
    {
     "name": "stderr",
     "output_type": "stream",
     "text": [
      "Generating train split: 300784 examples [00:00, 1281004.69 examples/s]\n"
     ]
    },
    {
     "name": "stdout",
     "output_type": "stream",
     "text": [
      "Baseline → Acc: 0.6287, Prec: 0.6316, Rec: 0.6113, F1: 0.6213\n"
     ]
    }
   ],
   "source": [
    "def preprocess(text):\n",
    "    text = text.lower()\n",
    "    text = re.sub(r\"[^a-z0-9\\s]\", \"\", text)\n",
    "    toks = text.split()\n",
    "    return \" \".join(toks) if len(toks) >= 5 else \"\"\n",
    "\n",
    "def get_data_from_jsonl(path, n_per_split=100):\n",
    "    ds = load_dataset(\"json\", data_files=path, split=f\"train[:{n_per_split}]\")\n",
    "    \n",
    "    human_raw = ds[\"real\"]\n",
    "    ai_raw    = ds[\"gpt2\"]\n",
    "\n",
    "    # Preprocess & drop too-short\n",
    "    human = [preprocess(t) for t in human_raw]\n",
    "    ai    = [preprocess(t) for t in ai_raw]\n",
    "    # Remove empty strings\n",
    "    human = [t for t in human if t]\n",
    "    ai    = [t for t in ai if t]\n",
    "\n",
    "    # Zip up & shuffle\n",
    "    texts = human + ai\n",
    "    labels = [0]*len(human) + [1]*len(ai)\n",
    "    data = list(zip(texts, labels))\n",
    "    random.shuffle(data)\n",
    "    return zip(*data)\n",
    "\n",
    "if __name__ == \"__main__\":\n",
    "    texts, labels = get_data_from_jsonl(\"data/train.jsonl\", n_per_split=10000)\n",
    "\n",
    "    # split\n",
    "    X_train, X_dev, y_train, y_dev = train_test_split(\n",
    "        texts, labels,\n",
    "        test_size=0.1,\n",
    "        random_state=42,\n",
    "        stratify=labels\n",
    "    )\n",
    "\n",
    "    # vectorize\n",
    "    vec = TfidfVectorizer(ngram_range=(1,2), max_features=20000)\n",
    "    Xtr_tfidf = vec.fit_transform(X_train)\n",
    "    Xdv_tfidf = vec.transform(X_dev)\n",
    "\n",
    "    # train NB\n",
    "    clf = MultinomialNB()\n",
    "    clf.fit(Xtr_tfidf, y_train)\n",
    "\n",
    "    # evaluate\n",
    "    preds = clf.predict(Xdv_tfidf)\n",
    "    acc = accuracy_score(y_dev, preds)\n",
    "    prec, rec, f1, _ = precision_recall_fscore_support(\n",
    "        y_dev, preds, average=\"binary\"\n",
    "    )\n",
    "\n",
    "    print(f\"Baseline → Acc: {acc:.4f}, Prec: {prec:.4f}, Rec: {rec:.4f}, F1: {f1:.4f}\")"
   ]
  }
 ],
 "metadata": {
  "kernelspec": {
   "display_name": ".env",
   "language": "python",
   "name": "python3"
  },
  "language_info": {
   "codemirror_mode": {
    "name": "ipython",
    "version": 3
   },
   "file_extension": ".py",
   "mimetype": "text/x-python",
   "name": "python",
   "nbconvert_exporter": "python",
   "pygments_lexer": "ipython3",
   "version": "3.11.9"
  }
 },
 "nbformat": 4,
 "nbformat_minor": 5
}
